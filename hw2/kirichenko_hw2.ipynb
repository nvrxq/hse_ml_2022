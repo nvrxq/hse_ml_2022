{
 "cells": [
  {
   "cell_type": "markdown",
   "metadata": {
    "id": "HfaLXiuv2Ast"
   },
   "source": [
    "### Машинное Обучения\n",
    "\n",
    "## Домашнее задание №2 - Дерево решений"
   ]
  },
  {
   "cell_type": "markdown",
   "metadata": {
    "id": "KlfCPXXv2Asv"
   },
   "source": [
    "**Общая информация**\n",
    "\n",
    "**Срок сдачи:** 1 февраля 2023, 08:30   \n",
    "**Штраф за опоздание:** -2 балла за каждые 2 дня опоздания\n",
    "\n",
    "Решений залить в свой github репозиторий.\n",
    "\n",
    "Используйте данный Ipython Notebook при оформлении домашнего задания."
   ]
  },
  {
   "cell_type": "markdown",
   "metadata": {
    "id": "tgmq7CQC2Asw"
   },
   "source": [
    "##  Реализуем дерево решений (3 балла)"
   ]
  },
  {
   "cell_type": "markdown",
   "metadata": {
    "id": "IsILLIyx2Asw"
   },
   "source": [
    "Допишите недостающие части дерева решений. Ваша реализация дерева должна работать по точности не хуже DecisionTreeClassifier из sklearn.\n",
    "Внимание: если Вас не устраивает предложенная структура хранения дерева, Вы без потери баллов можете сделать свой класс MyDecisionTreeClassifier, в котором сами полностью воспроизведете алгоритм дерева решений. Обязательно в нем иметь только функции fit, predict . (Но название класса не менять)"
   ]
  },
  {
   "cell_type": "code",
   "execution_count": 1,
   "metadata": {
    "id": "S8XAOeLm2Asy"
   },
   "outputs": [],
   "source": [
    "import matplotlib.pyplot as plt\n",
    "import numpy as np\n",
    "import pandas as pd\n",
    "\n",
    "from sklearn.datasets import load_wine\n",
    "from sklearn.ensemble import RandomForestClassifier\n",
    "from sklearn.metrics import accuracy_score\n",
    "from sklearn.model_selection import KFold, train_test_split, GridSearchCV, RandomizedSearchCV\n",
    "from sklearn.tree import DecisionTreeClassifier\n",
    "import warnings\n",
    "warnings.filterwarnings(\"ignore\")"
   ]
  },
  {
   "cell_type": "code",
   "execution_count": 2,
   "metadata": {
    "id": "qIbB_ewU2Asy"
   },
   "outputs": [],
   "source": [
    "from collections import defaultdict\n",
    "\n",
    "class MyDecisionTreeClassifier:\n",
    "    NON_LEAF_TYPE = 0\n",
    "    LEAF_TYPE = 1\n",
    "\n",
    "    def __init__(self, min_samples_split=2, max_depth=5, criterion='entropy', faster = False):\n",
    "        \"\"\"\n",
    "        criterion -- критерий расщепления. необходимо релизовать три:\n",
    "        Ошибка классификации, Индекс Джини, Энтропийный критерий\n",
    "        max_depth -- максимальная глубина дерева\n",
    "        min_samples_split -- минимальное число объектов в листе, чтобы сделать новый сплит\n",
    "        \"\"\"\n",
    "        self.min_samples_split = min_samples_split\n",
    "        self.max_depth = max_depth\n",
    "        self.num_class = -1\n",
    "        # Для последнего задания\n",
    "        self.feature_importances_ = None\n",
    "        criterions = {'gini' : self.__gini,\n",
    "                          'entropy' : self.__entropy,\n",
    "                           'misclass': self.__misclass}  \n",
    "        self.criterion = criterions[criterion]\n",
    "        # Структура, которая описывает дерево\n",
    "        # Представляет словарь, где для  node_id (айдишник узла дерева) храним\n",
    "        # (тип_узла, айдишник признака сплита, порог сплита) если тип NON_LEAF_TYPE\n",
    "        # (тип_узла, предсказание класса, вероятность класса) если тип LEAF_TYPE\n",
    "        # Подразумевается, что у каждого node_id в дереве слева \n",
    "        # узел с айди 2 * node_id + 1, а справа 2 * node_id + 2\n",
    "        self.tree = dict()\n",
    "        self.faster = faster\n",
    "\n",
    "    def __div_samples(self, x, y, feature_id, threshold):\n",
    "        \"\"\"\n",
    "        Разделяет объекты на 2 множества\n",
    "        x -- матрица объектов\n",
    "        y -- вектор ответов\n",
    "        feature_id -- айдишник признака, по которому делаем сплит\n",
    "        threshold -- порог, по которому делаем сплит\n",
    "        \"\"\"\n",
    "        left_mask = x[:, feature_id] > threshold\n",
    "        right_mask = ~left_mask\n",
    "        return x[left_mask], x[right_mask], y[left_mask], y[right_mask]\n",
    "\n",
    "    def __misclass(self, y):\n",
    "        prob = np.bincount(y)/y.shape\n",
    "        return 1 - np.max(prob)\n",
    "\n",
    "\n",
    "    def __entropy(self, y):\n",
    "        # prob mojet bit' 0, poetomu +1e-10\n",
    "        prob = np.bincount(y)/y.shape\n",
    "        return -(prob * np.log(prob + 1e-10)).sum()\n",
    "\n",
    "\n",
    "    def __gini(self, y):\n",
    "        p = np.bincount(y)/y.shape\n",
    "        if not p.shape[0]:\n",
    "            return 1\n",
    "        return (p* (1 - p)).sum()\n",
    "\n",
    "\n",
    "    def __ma(self, x, window = 2):\n",
    "      return np.convolve(x, np.ones(window), 'valid') / window\n",
    "\n",
    "\n",
    "\n",
    "\n",
    "    def __find_thresholdBrootForce(self, x, y):\n",
    "        best_feature, best_Q, best_threshold = -1, -1, -1\n",
    "        obj, features = x.shape\n",
    "        for feature in range(features):\n",
    "          cols = x[:, feature]\n",
    "          cols = self.__ma(cols)\n",
    "          for value in cols:\n",
    "            x_l, x_r, y_l, y_r = self.__div_samples(x, y, feature, value)\n",
    "            if y_l.shape[0]:\n",
    "              Q = self.criterion(y) - (y_l.shape[0] / y.shape[0]) * self.criterion(y_l) - (y_r.shape[0] / y.shape[0]) * self.criterion(y_r)\n",
    "              \n",
    "              if Q > best_Q:\n",
    "                best_Q = Q\n",
    "                best_feature = feature\n",
    "                best_threshold = value\n",
    "        return best_feature, best_threshold\n",
    "    \n",
    "\n",
    "    def __sort_samples(self, x ,y ):\n",
    "        sorted_args = x.argsort()\n",
    "        return x[sorted_args], y[sorted_args]\n",
    "\n",
    "\n",
    "    def __fast_entropy(self, leftCounts,leftS , rightCounts, rightS):\n",
    "         p1 = leftS * (-((leftCounts / leftS) * np.log( (leftCounts + 1e-10)/ leftS)).sum(axis = 1)).reshape(-1, 1)\n",
    "         p2 = rightS * (-((rightCounts / rightS) * np.log(\n",
    "               (rightCounts + 1e-10)/ rightS)).sum(axis = 1)).reshape(-1, 1)\n",
    "         return (p1 + p2) / (leftS + rightS)\n",
    "\n",
    "\n",
    "\n",
    "\n",
    "\n",
    "      \n",
    "\n",
    "\n",
    "    def __find_threshold(self, x, y):\n",
    "\n",
    "\n",
    "        x_sort, y_sort = self.__sort_samples(x, y)\n",
    "        split_cut = self.min_samples_split\n",
    "        y_split = y_sort\n",
    "        #обрезаем вектор ответов\n",
    "        if split_cut:\n",
    "            y_split = y_sort[split_cut:-split_cut]\n",
    "        class_bound = np.where(y_split[:-1] != y_split[1:])[0] + (split_cut + 1)\n",
    "\n",
    "        if len(class_bound) == 0:\n",
    "            return np.inf, None\n",
    "\n",
    "        eq_el_count = class_bound - np.append([split_cut], class_bound[:-1])\n",
    "        OneHotMatrix = np.zeros((class_bound.shape[0], self.num_class))\n",
    "        OneHotMatrix[np.arange(class_bound.shape[0]), y_sort[class_bound - 1]] = 1\n",
    "        classInc = OneHotMatrix * eq_el_count.reshape(-1, 1)\n",
    "        classInc[0] = classInc[0] + np.bincount(y_sort[:split_cut], minlength = self.num_class)\n",
    "\n",
    "        l_c = np.cumsum(classInc, axis=0)\n",
    "        r_c = np.bincount(y_sort, minlength = self.num_class) - l_c\n",
    "        l_s = class_bound.reshape(l_c.shape[0], 1)\n",
    "        r_s = y_sort.shape[0] - l_s\n",
    "        Q = self.__fast_entropy(l_c, l_s, r_c, r_s)\n",
    "        #Т.к H для всех элементов не зависит от вектора, => задача максимизации превращается в задачу минимизации\n",
    "        feature = np.argmin(Q)\n",
    "        left_el_id = l_s[feature][0]\n",
    "        #Возвращаем Movind Average с окном 2\n",
    "        return Q[feature], (x_sort[left_el_id - 1] + x_sort[left_el_id]) / 2.0\n",
    "\n",
    "\n",
    "\n",
    "\n",
    "       \n",
    "\n",
    "    def checkLeaf(self, y, depth):\n",
    "        return (self.max_depth <= depth) or \\\n",
    "               (y.size < self.min_samples_split)\n",
    "\n",
    "    def __fit_node(self, x, y, node_id, depth):\n",
    "        if self.checkLeaf(y, depth):\n",
    "            self.tree[node_id] = [self.__class__.LEAF_TYPE, np.argmax(np.bincount(y))]\n",
    "        else:\n",
    "            if self.faster:\n",
    "              thresholds = np.array([self.__find_threshold(x[:, i], y)\n",
    "                                    for i in range(x.shape[1])])\n",
    "              best_feature = np.argmin(thresholds[:, 0])\n",
    "              best_threshold = thresholds[best_feature, 1]\n",
    "            else:\n",
    "              best_feature, best_threshold = self.__find_thresholdBrootForce(x, y)\n",
    "            if best_threshold == None:\n",
    "                self.tree[node_id] = [self.__class__.LEAF_TYPE, np.argmax(np.bincount(y))]\n",
    "            else:\n",
    "                l_x, r_x, l_y, r_y = self.__div_samples(x, y, best_feature, best_threshold)\n",
    "\n",
    "                if (l_x.size == 0) or (r_x.size == 0):\n",
    "                    self.tree[node_id] = [self.__class__.LEAF_TYPE, np.argmax(np.bincount(y))]\n",
    "                else:\n",
    "                    self.tree[node_id] = [self.__class__.NON_LEAF_TYPE, best_feature, best_threshold]\n",
    "                    self.__fit_node(l_x, l_y, 2 * node_id + 1, depth + 1)\n",
    "                    self.__fit_node(r_x, r_y, 2 * node_id + 2, depth + 1)\n",
    "                    l_s = np.array(l_y.size)\n",
    "                    r_s = np.array(r_y.size)\n",
    "                    c = -np.sum(np.unique(y, return_counts=True)[1] *\n",
    "                                    np.log2(np.unique(y, return_counts=True)[1])) / y.size\n",
    "                    l_count = -np.sum(np.unique(l_y, return_counts=True)[1] *\n",
    "                                      np.log2(np.unique(l_y, return_counts=True)[1])) / l_y.size\n",
    "                    r_count = -np.sum(np.unique(r_y, return_counts=True)[1] *\n",
    "                                      np.log2(np.unique(r_y, return_counts=True)[1])) / r_y.size\n",
    "                    self.feature_importances_[best_feature] += y.size * c - l_y.size * l_count - l_y.size * r_count\n",
    "\n",
    "\n",
    "    \n",
    "    def fit(self, x, y):\n",
    "        \"\"\"\n",
    "        Рекурсивно строим дерево решений\n",
    "        Начинаем с корня node_id 0\n",
    "        \"\"\"\n",
    "        self.num_class = np.unique(y).size\n",
    "        self.feature_importances_ = np.zeros(x.shape[1])\n",
    "        self.__fit_node(x, y, 0, 0) \n",
    "        self.feature_importances_ /= np.sum(self.feature_importances_)\n",
    "    def __predict_class(self, x, node_id):\n",
    "        \"\"\"\n",
    "        Рекурсивно обходим дерево по всем узлам,\n",
    "        пока не дойдем до терминального\n",
    "        \"\"\"\n",
    "        node = self.tree[node_id]\n",
    "        if node[0] == self.__class__.NON_LEAF_TYPE:\n",
    "            _, feature_id, threshold = node\n",
    "            if x[feature_id] >= threshold:\n",
    "                return self.__predict_class(x, 2 * node_id + 1)\n",
    "            else:\n",
    "                return self.__predict_class(x, 2 * node_id + 2)\n",
    "        else:\n",
    "            return node[1]\n",
    "        \n",
    "    def predict(self, X):\n",
    "        \"\"\"\n",
    "        Вызывает predict для всех объектов из матрицы X\n",
    "        \"\"\"\n",
    "        return np.array([self.__predict_class(x, 0) for x in X])\n",
    "    \n",
    "    def fit_predict(self, x_train, y_train, predicted_x):\n",
    "        self.fit(x_train, y_train)\n",
    "        return self.predict(predicted_x)\n",
    "    \n",
    "    def get_feature_importance(self):\n",
    "        \"\"\"\n",
    "        Возвращает важность признаков\n",
    "        \"\"\"\n",
    "        # Ваш код здесь\n",
    "        return self.feature_importances_"
   ]
  },
  {
   "cell_type": "code",
   "execution_count": 3,
   "metadata": {
    "id": "FrkEGzyl2As0"
   },
   "outputs": [],
   "source": [
    "my_clf = MyDecisionTreeClassifier(min_samples_split=2, max_depth = 3, faster = True)\n",
    "clf = DecisionTreeClassifier(min_samples_split=2)\n"
   ]
  },
  {
   "cell_type": "code",
   "execution_count": 4,
   "metadata": {
    "id": "46zRjHRo2As0"
   },
   "outputs": [],
   "source": [
    "wine = load_wine()\n",
    "X_train, X_test, y_train, y_test = train_test_split(wine.data, wine.target, test_size=0.1, stratify=wine.target, random_state = 42)\n"
   ]
  },
  {
   "cell_type": "code",
   "execution_count": 5,
   "metadata": {
    "id": "bXgKznZeWi8c"
   },
   "outputs": [],
   "source": [
    "my_clf.fit(X_train, y_train)\n"
   ]
  },
  {
   "cell_type": "code",
   "execution_count": 6,
   "metadata": {
    "colab": {
     "base_uri": "https://localhost:8080/"
    },
    "id": "hz_-w4bk9_GN",
    "outputId": "c62fbdae-5984-45cd-84b2-1f8a07fd0037"
   },
   "outputs": [
    {
     "data": {
      "text/plain": [
       "1.0"
      ]
     },
     "execution_count": 6,
     "metadata": {},
     "output_type": "execute_result"
    }
   ],
   "source": [
    "accuracy_score(my_clf.predict(X_test), y_test)"
   ]
  },
  {
   "cell_type": "markdown",
   "metadata": {
    "id": "MDujmh_m2As2"
   },
   "source": [
    "Совет: Проверьте, что ваша реализация корректно работает с признаками в которых встречаются повторы. \n",
    "И подумайте, какие еще граничные случаи могут быть.\n",
    "Например, проверьте, что на таком примере ваша модель корректно работает:"
   ]
  },
  {
   "cell_type": "code",
   "execution_count": 7,
   "metadata": {
    "colab": {
     "base_uri": "https://localhost:8080/"
    },
    "id": "zh5yu7I9aJLw",
    "outputId": "0d1df897-2d62-44ae-ca61-2b74f8bdd7e3"
   },
   "outputs": [
    {
     "name": "stdout",
     "output_type": "stream",
     "text": [
      "DEPTH: 1 \n",
      "\t\tTree: {0: [0, 1, 1.5], 1: [1, 1], 2: [1, 0]} [0 0 1 1 1 1 1 1 1 1]\n",
      "DEPTH: 2 \n",
      "\t\tTree: {0: [0, 1, 1.5], 1: [0, 1, 7.5], 3: [1, 1], 4: [1, 0], 2: [0, 1, 0.5], 5: [1, 0], 6: [1, 0]} [0 0 0 0 0 0 0 0 1 1]\n",
      "DEPTH: 3 \n",
      "\t\tTree: {0: [0, 1, 1.5], 1: [0, 1, 7.5], 3: [0, 1, 8.5], 7: [1, 1], 8: [1, 1], 4: [0, 1, 4.5], 9: [1, 0], 10: [1, 1], 2: [0, 1, 0.5], 5: [1, 0], 6: [1, 0]} [0 0 1 0 0 1 1 0 1 1]\n",
      "DEPTH: 4 \n",
      "\t\tTree: {0: [0, 1, 1.5], 1: [0, 1, 7.5], 3: [0, 1, 8.5], 7: [1, 1], 8: [1, 1], 4: [0, 1, 4.5], 9: [0, 1, 6.5], 19: [1, 1], 20: [1, 0], 10: [0, 1, 2.5], 21: [1, 1], 22: [1, 0], 2: [0, 1, 0.5], 5: [1, 0], 6: [1, 0]} [0 0 0 0 0 1 1 1 1 1]\n"
     ]
    }
   ],
   "source": [
    "X = np.array([[1] * 10, [0, 1, 2, 5, 6, 3, 4, 7, 8, 9]]).T\n",
    "y = np.array([0, 0, 0, 0, 0, 1, 1, 1, 1, 1])\n",
    "for depth in range(1, 5):\n",
    "    my_clf = MyDecisionTreeClassifier(max_depth=depth, faster = False)\n",
    "    my_clf.fit(X, y)\n",
    "    print(\"DEPTH:\", depth, \"\\n\\t\\tTree:\", my_clf.tree, my_clf.predict(X))"
   ]
  },
  {
   "cell_type": "markdown",
   "metadata": {
    "id": "POEoSxXR2As2"
   },
   "source": [
    "### Придумайте интересные примеры для отладки дерева решений (доп. задание)\n",
    "Это необязательный пункт. За него можно получить 1 доп балл. \n",
    "Можете придумать примеры для отладки дерева, похожие на пример выше. \n",
    "\n",
    "Они должны быть не сложные, но в то же время информативные, чтобы можно было понять, что реализация содержит ошибки.\n",
    "Вместе с примером нужно указать ожидаемый выход модели. "
   ]
  },
  {
   "cell_type": "code",
   "execution_count": 8,
   "metadata": {
    "id": "teGLFIzS2As2"
   },
   "outputs": [],
   "source": [
    "my_clf = MyDecisionTreeClassifier(min_samples_split=2, faster = False)\n",
    "clf = DecisionTreeClassifier(min_samples_split=2)"
   ]
  },
  {
   "cell_type": "markdown",
   "metadata": {
    "id": "pOYmbOuf2As3"
   },
   "source": [
    "## Ускоряем дерево решений (2 балла)\n",
    "Добиться скорости работы на fit не медленнее чем в 10 раз sklearn на данных wine. \n",
    "Для этого используем numpy."
   ]
  },
  {
   "cell_type": "code",
   "execution_count": 9,
   "metadata": {
    "colab": {
     "base_uri": "https://localhost:8080/"
    },
    "id": "f1RQgzIp2As3",
    "outputId": "9193a9fb-93de-4989-ad95-d3ab7106638d",
    "scrolled": true
   },
   "outputs": [
    {
     "name": "stdout",
     "output_type": "stream",
     "text": [
      "CPU times: user 2.4 ms, sys: 3.84 ms, total: 6.24 ms\n",
      "Wall time: 4.31 ms\n"
     ]
    },
    {
     "data": {
      "text/plain": [
       "DecisionTreeClassifier()"
      ]
     },
     "execution_count": 9,
     "metadata": {},
     "output_type": "execute_result"
    }
   ],
   "source": [
    "%time clf.fit(X_train, y_train)"
   ]
  },
  {
   "cell_type": "code",
   "execution_count": 10,
   "metadata": {
    "colab": {
     "base_uri": "https://localhost:8080/"
    },
    "id": "exEmS3be2As3",
    "outputId": "be1d8894-506d-434c-e632-b4eb00b67207"
   },
   "outputs": [
    {
     "name": "stdout",
     "output_type": "stream",
     "text": [
      "CPU times: user 332 ms, sys: 347 µs, total: 332 ms\n",
      "Wall time: 332 ms\n"
     ]
    }
   ],
   "source": [
    "%time my_clf.fit(X_train, y_train) #  faster = False"
   ]
  },
  {
   "cell_type": "code",
   "execution_count": 11,
   "metadata": {
    "id": "Dn4mmF9P_39I"
   },
   "outputs": [],
   "source": [
    "my_clf = MyDecisionTreeClassifier(min_samples_split=2, faster = True)\n"
   ]
  },
  {
   "cell_type": "code",
   "execution_count": 12,
   "metadata": {
    "colab": {
     "base_uri": "https://localhost:8080/"
    },
    "id": "Q3TPjfuUAA5p",
    "outputId": "790c21cf-97da-400a-8623-091702b155fe"
   },
   "outputs": [
    {
     "name": "stdout",
     "output_type": "stream",
     "text": [
      "CPU times: user 7.77 ms, sys: 0 ns, total: 7.77 ms\n",
      "Wall time: 7.61 ms\n"
     ]
    }
   ],
   "source": [
    "%time my_clf.fit(X_train, y_train) #  faster = True"
   ]
  },
  {
   "cell_type": "markdown",
   "metadata": {
    "id": "ACXU_GHq2As4"
   },
   "source": [
    "## Боевое применение (3 балла)\n",
    "\n",
    "На практике Вы познакомились с датасетом Speed Dating Data. В нем каждая пара в быстрых свиданиях характеризуется определенным набором признаков. Задача -- предсказать, произойдет ли матч пары (колонка match). \n",
    "\n",
    "Данные и описания колонок во вложениях.\n",
    "\n",
    "Пример работы с датасетом можете найти в практике пункт 2\n",
    "https://github.com/VVVikulin/ml1.sphere/blob/master/2019-09/lecture_06/pract-trees.ipynb\n",
    "\n",
    "Либо воспользоваться функцией:"
   ]
  },
  {
   "cell_type": "code",
   "execution_count": 13,
   "metadata": {
    "id": "-6sNsQmq2As4"
   },
   "outputs": [],
   "source": [
    "def preprocess_spd_data(df):\n",
    "    df = df.iloc[:, :97]\n",
    "    \n",
    "    to_drop = [\n",
    "        'iid', 'id', 'idg', 'condtn', 'round', 'position', 'positin1', 'order', 'partner', \n",
    "        'age_o', 'race_o', 'pf_o_att', 'pf_o_sin', 'pf_o_int', 'pf_o_fun', 'pf_o_amb', 'pf_o_sha',\n",
    "        'dec_o', 'attr_o', 'sinc_o', 'intel_o', 'fun_o', 'amb_o', 'shar_o', 'like_o', 'prob_o','met_o',\n",
    "        'field', 'undergra', 'from', 'zipcode', 'income', 'career', 'sports', 'tvsports', 'exercise', \n",
    "        'dining', 'museums', 'art', 'hiking', 'gaming', 'clubbing', 'reading', 'tv', 'theater', 'movies', \n",
    "        'concerts', 'music', 'shopping', 'yoga', 'expnum',\n",
    "        'mn_sat', 'tuition'\n",
    "    ]\n",
    "\n",
    "    df = df.drop(to_drop, axis=1)\n",
    "    df = df.dropna(subset=['age', 'imprelig', 'imprace', 'date'])\n",
    "\n",
    "    df.loc[:, 'field_cd'] = df.loc[:, 'field_cd'].fillna(19)\n",
    "    df.loc[:, 'career_c'] = df.loc[:, 'career_c'].fillna(18)\n",
    "    \n",
    "    # attr1 processing\n",
    "    df.loc[:, 'temp_totalsum'] = df.loc[:, ['attr1_1', 'sinc1_1', 'intel1_1', 'fun1_1', \n",
    "                                            'amb1_1', 'shar1_1']].sum(axis=1)\n",
    "    df.loc[:, ['attr1_1', 'sinc1_1', 'intel1_1', 'fun1_1', 'amb1_1', 'shar1_1']] =\\\n",
    "    (df.loc[:, ['attr1_1', 'sinc1_1', 'intel1_1', 'fun1_1', 'amb1_1', 'shar1_1']].T / \n",
    "     df.loc[:, 'temp_totalsum'].T).T * 100\n",
    "    \n",
    "    # attr2 processing\n",
    "    df.loc[:, 'temp_totalsum'] = df.loc[:, ['attr2_1', 'sinc2_1', 'intel2_1', 'fun2_1', \n",
    "                                            'amb2_1', 'shar2_1']].sum(axis=1)\n",
    "    df.loc[:, ['attr2_1', 'sinc2_1', 'intel2_1', 'fun2_1', 'amb2_1', 'shar2_1']] =\\\n",
    "    (df.loc[:, ['attr2_1', 'sinc2_1', 'intel2_1', 'fun2_1', 'amb2_1', 'shar2_1']].T / \n",
    "     df.loc[:, 'temp_totalsum'].T).T * 100\n",
    "    df = df.drop(['temp_totalsum'], axis=1)\n",
    "    \n",
    "    for i in [4, 5]:\n",
    "        feat = ['attr{}_1'.format(i), 'sinc{}_1'.format(i), \n",
    "                'intel{}_1'.format(i), 'fun{}_1'.format(i), \n",
    "                'amb{}_1'.format(i), 'shar{}_1'.format(i)]\n",
    "\n",
    "        if i != 4:\n",
    "            feat.remove('shar{}_1'.format(i))\n",
    "    \n",
    "        df = df.drop(feat, axis=1)\n",
    "    \n",
    "    df = df.drop(['wave'], axis=1)\n",
    "    df = df.dropna()\n",
    "    return df"
   ]
  },
  {
   "cell_type": "markdown",
   "metadata": {
    "id": "-GllhV2S2As5"
   },
   "source": [
    "Скачайте датасет, обработайте данные, как показано на семинаре или своим собственным способом. Обучите дерево классифкации. В качестве таргета возьмите колонку 'match'. Постарайтесь хорошо обработать признаки, чтобы выбить максимальную точность. Если точность будет близка к случайному гаданию, задание не будет защитано. В качестве метрики можно взять roc-auc. \n"
   ]
  },
  {
   "cell_type": "code",
   "execution_count": 14,
   "metadata": {
    "id": "C-gezwJq2As5"
   },
   "outputs": [],
   "source": [
    "df = pd.read_csv('Speed_Dating_Data.csv', encoding='latin1')\n",
    "df = preprocess_spd_data(df)\n",
    "target_col = 'match'\n",
    "assert not df.isna().sum().sum()\n",
    "\n",
    "\n"
   ]
  },
  {
   "cell_type": "code",
   "execution_count": 15,
   "metadata": {
    "colab": {
     "base_uri": "https://localhost:8080/",
     "height": 142
    },
    "id": "fSbLURp2FK6Y",
    "outputId": "43c95c60-7ac7-419c-bddf-5cca268f138d"
   },
   "outputs": [
    {
     "data": {
      "text/html": [
       "<div>\n",
       "<style scoped>\n",
       "    .dataframe tbody tr th:only-of-type {\n",
       "        vertical-align: middle;\n",
       "    }\n",
       "\n",
       "    .dataframe tbody tr th {\n",
       "        vertical-align: top;\n",
       "    }\n",
       "\n",
       "    .dataframe thead th {\n",
       "        text-align: right;\n",
       "    }\n",
       "</style>\n",
       "<table border=\"1\" class=\"dataframe\">\n",
       "  <thead>\n",
       "    <tr style=\"text-align: right;\">\n",
       "      <th></th>\n",
       "      <th>gender</th>\n",
       "      <th>pid</th>\n",
       "      <th>match</th>\n",
       "      <th>int_corr</th>\n",
       "      <th>samerace</th>\n",
       "      <th>age</th>\n",
       "      <th>field_cd</th>\n",
       "      <th>race</th>\n",
       "      <th>imprace</th>\n",
       "      <th>imprelig</th>\n",
       "      <th>...</th>\n",
       "      <th>sinc2_1</th>\n",
       "      <th>intel2_1</th>\n",
       "      <th>fun2_1</th>\n",
       "      <th>amb2_1</th>\n",
       "      <th>shar2_1</th>\n",
       "      <th>attr3_1</th>\n",
       "      <th>sinc3_1</th>\n",
       "      <th>fun3_1</th>\n",
       "      <th>intel3_1</th>\n",
       "      <th>amb3_1</th>\n",
       "    </tr>\n",
       "  </thead>\n",
       "  <tbody>\n",
       "    <tr>\n",
       "      <th>0</th>\n",
       "      <td>0</td>\n",
       "      <td>11.0</td>\n",
       "      <td>0</td>\n",
       "      <td>0.14</td>\n",
       "      <td>0</td>\n",
       "      <td>21.0</td>\n",
       "      <td>1.0</td>\n",
       "      <td>4.0</td>\n",
       "      <td>2.0</td>\n",
       "      <td>4.0</td>\n",
       "      <td>...</td>\n",
       "      <td>20.0</td>\n",
       "      <td>15.0</td>\n",
       "      <td>20.0</td>\n",
       "      <td>5.0</td>\n",
       "      <td>5.0</td>\n",
       "      <td>6.0</td>\n",
       "      <td>8.0</td>\n",
       "      <td>8.0</td>\n",
       "      <td>8.0</td>\n",
       "      <td>7.0</td>\n",
       "    </tr>\n",
       "    <tr>\n",
       "      <th>1</th>\n",
       "      <td>0</td>\n",
       "      <td>12.0</td>\n",
       "      <td>0</td>\n",
       "      <td>0.54</td>\n",
       "      <td>0</td>\n",
       "      <td>21.0</td>\n",
       "      <td>1.0</td>\n",
       "      <td>4.0</td>\n",
       "      <td>2.0</td>\n",
       "      <td>4.0</td>\n",
       "      <td>...</td>\n",
       "      <td>20.0</td>\n",
       "      <td>15.0</td>\n",
       "      <td>20.0</td>\n",
       "      <td>5.0</td>\n",
       "      <td>5.0</td>\n",
       "      <td>6.0</td>\n",
       "      <td>8.0</td>\n",
       "      <td>8.0</td>\n",
       "      <td>8.0</td>\n",
       "      <td>7.0</td>\n",
       "    </tr>\n",
       "  </tbody>\n",
       "</table>\n",
       "<p>2 rows × 32 columns</p>\n",
       "</div>"
      ],
      "text/plain": [
       "   gender   pid  match  int_corr  samerace   age  field_cd  race  imprace  \\\n",
       "0       0  11.0      0      0.14         0  21.0       1.0   4.0      2.0   \n",
       "1       0  12.0      0      0.54         0  21.0       1.0   4.0      2.0   \n",
       "\n",
       "   imprelig  ...  sinc2_1  intel2_1  fun2_1  amb2_1  shar2_1  attr3_1  \\\n",
       "0       4.0  ...     20.0      15.0    20.0     5.0      5.0      6.0   \n",
       "1       4.0  ...     20.0      15.0    20.0     5.0      5.0      6.0   \n",
       "\n",
       "   sinc3_1  fun3_1  intel3_1  amb3_1  \n",
       "0      8.0     8.0       8.0     7.0  \n",
       "1      8.0     8.0       8.0     7.0  \n",
       "\n",
       "[2 rows x 32 columns]"
      ]
     },
     "execution_count": 15,
     "metadata": {},
     "output_type": "execute_result"
    }
   ],
   "source": [
    "df.head(2)"
   ]
  },
  {
   "cell_type": "code",
   "execution_count": 16,
   "metadata": {
    "id": "FjihMLo-Lapl"
   },
   "outputs": [],
   "source": [
    "X = df.drop(['match'], axis=1)\n",
    "y = df.match\n"
   ]
  },
  {
   "cell_type": "code",
   "execution_count": 17,
   "metadata": {
    "colab": {
     "base_uri": "https://localhost:8080/"
    },
    "id": "BYTYaPnkLJR6",
    "outputId": "a6ee03bc-9b09-47f6-b64b-df417a766871"
   },
   "outputs": [
    {
     "name": "stdout",
     "output_type": "stream",
     "text": [
      "(5672, 31) (5672,)\n"
     ]
    }
   ],
   "source": [
    "from sklearn.model_selection import train_test_split\n",
    "X_train, X_test, y_train, y_test =  train_test_split(X,y, test_size = 0.3, shuffle=False)\n",
    "print(X_train.shape, y_train.shape)"
   ]
  },
  {
   "cell_type": "markdown",
   "metadata": {
    "id": "5mdbTQ8_2As5"
   },
   "source": [
    "Разбейте датасет на трейн и валидацию. Подберите на валидации оптимальный критерий  информативности. \n",
    "Постройте графики зависимости точности на валидации и трейне от глубины дерева, от минимального числа объектов для сплита. (Т.е должно быть 2 графика, на каждой должны быть 2 кривые - для трейна и валидации)\n",
    "Какой максимальной точности удалось достигнуть?"
   ]
  },
  {
   "cell_type": "code",
   "execution_count": 18,
   "metadata": {
    "id": "7CtcVaKiWYBc"
   },
   "outputs": [],
   "source": [
    "import matplotlib.pyplot as plt\n",
    "\n",
    "%matplotlib inline\n",
    "plt.style.use('ggplot')\n",
    "plt.rcParams['figure.figsize'] = (10, 8)"
   ]
  },
  {
   "cell_type": "code",
   "execution_count": 19,
   "metadata": {
    "id": "I5kejf2u3gEC"
   },
   "outputs": [],
   "source": [
    "my_clf = MyDecisionTreeClassifier(min_samples_split=2 ,faster = True)\n",
    "my_clf.fit(X_train.values, y_train.values)\n"
   ]
  },
  {
   "cell_type": "code",
   "execution_count": 20,
   "metadata": {
    "colab": {
     "base_uri": "https://localhost:8080/"
    },
    "id": "4ela69CfTTOg",
    "outputId": "3f43b67d-b0e2-4843-fce6-294988b004fd"
   },
   "outputs": [
    {
     "data": {
      "text/plain": [
       "0.8375822368421053"
      ]
     },
     "execution_count": 20,
     "metadata": {},
     "output_type": "execute_result"
    }
   ],
   "source": [
    "accuracy_score(my_clf.predict(X_test.values), y_test)"
   ]
  },
  {
   "cell_type": "code",
   "execution_count": 21,
   "metadata": {
    "id": "5yd8r4ZjdhYD"
   },
   "outputs": [],
   "source": [
    "logger = pd.DataFrame(columns = ['type', 'accuracy', 'splits', 'depths'])\n",
    "for splits in range(1, 26):\n",
    "  for depths in range(1, 26):\n",
    "    my_clf = MyDecisionTreeClassifier(min_samples_split=splits, max_depth = depths, faster = True)\n",
    "    my_clf.fit(X_train.values, y_train.values)\n",
    "    rowTrain = pd.Series(['Train', accuracy_score(my_clf.predict(X_train.values), y_train), splits, depths], index = logger.columns)\n",
    "    rowValid = pd.Series(['Valid', accuracy_score(my_clf.predict(X_test.values), y_test), splits, depths], index = logger.columns)\n",
    "    logger = logger.append(rowTrain,ignore_index=True)\n",
    "    logger =  logger.append(rowValid, ignore_index = True)"
   ]
  },
  {
   "cell_type": "code",
   "execution_count": 22,
   "metadata": {
    "id": "6AU6qo3CEaE7"
   },
   "outputs": [],
   "source": [
    "trainAccuracy = logger.loc[logger.type == 'Train']\n",
    "validAccuracy = logger.loc[logger.type == 'Valid']"
   ]
  },
  {
   "cell_type": "code",
   "execution_count": 23,
   "metadata": {
    "colab": {
     "base_uri": "https://localhost:8080/",
     "height": 500
    },
    "id": "Q_EZhgeHhJGB",
    "outputId": "d6610f90-5e10-457b-aff3-9d8b9173cadd"
   },
   "outputs": [
    {
     "data": {
      "text/plain": [
       "[<matplotlib.lines.Line2D at 0x7f05cbcbdbb0>]"
      ]
     },
     "execution_count": 23,
     "metadata": {},
     "output_type": "execute_result"
    },
    {
     "data": {
      "image/png": "[encoded data removed]",
      "text/plain": [
       "<Figure size 1000x800 with 1 Axes>"
      ]
     },
     "metadata": {},
     "output_type": "display_data"
    }
   ],
   "source": [
    "\n",
    "\n",
    "\n",
    "plt.plot(trainAccuracy.groupby('depths').accuracy.mean())"
   ]
  },
  {
   "cell_type": "code",
   "execution_count": 24,
   "metadata": {
    "colab": {
     "base_uri": "https://localhost:8080/",
     "height": 500
    },
    "id": "w5HtSPUyhk4v",
    "outputId": "5948e34a-36c9-434c-8baa-f81055aabe37"
   },
   "outputs": [
    {
     "data": {
      "text/plain": [
       "[<matplotlib.lines.Line2D at 0x7f05cbc29880>]"
      ]
     },
     "execution_count": 24,
     "metadata": {},
     "output_type": "execute_result"
    },
    {
     "data": {
      "image/png": "[encoded data removed]",
      "text/plain": [
       "<Figure size 1000x800 with 1 Axes>"
      ]
     },
     "metadata": {},
     "output_type": "display_data"
    }
   ],
   "source": [
    "\n",
    "\n",
    "\n",
    "plt.plot(trainAccuracy.groupby('splits').accuracy.mean().T)"
   ]
  },
  {
   "cell_type": "code",
   "execution_count": 25,
   "metadata": {
    "colab": {
     "base_uri": "https://localhost:8080/",
     "height": 500
    },
    "id": "fXGwfO66jeYC",
    "outputId": "25dd7fbe-747b-4ce3-d130-c6bf9ef7a33c"
   },
   "outputs": [
    {
     "data": {
      "text/plain": [
       "[<matplotlib.lines.Line2D at 0x7f05cbb8f9a0>]"
      ]
     },
     "execution_count": 25,
     "metadata": {},
     "output_type": "execute_result"
    },
    {
     "data": {
      "image/png": "[encoded data removed]",
      "text/plain": [
       "<Figure size 1000x800 with 1 Axes>"
      ]
     },
     "metadata": {},
     "output_type": "display_data"
    }
   ],
   "source": [
    "\n",
    "\n",
    "\n",
    "plt.plot(validAccuracy.groupby('depths').accuracy.mean())"
   ]
  },
  {
   "cell_type": "code",
   "execution_count": 26,
   "metadata": {
    "colab": {
     "base_uri": "https://localhost:8080/",
     "height": 500
    },
    "id": "hTvLDi8MjeaE",
    "outputId": "b6180ece-61f2-4baf-d6ef-af7c670ada4b"
   },
   "outputs": [
    {
     "data": {
      "text/plain": [
       "[<matplotlib.lines.Line2D at 0x7f05cbafa400>]"
      ]
     },
     "execution_count": 26,
     "metadata": {},
     "output_type": "execute_result"
    },
    {
     "data": {
      "image/png": "[encoded data removed]",
      "text/plain": [
       "<Figure size 1000x800 with 1 Axes>"
      ]
     },
     "metadata": {},
     "output_type": "display_data"
    }
   ],
   "source": [
    "plt.plot(validAccuracy.groupby('splits').accuracy.mean())"
   ]
  },
  {
   "cell_type": "markdown",
   "metadata": {
    "id": "udL_Bbmm2As6"
   },
   "source": [
    "Известным фактом является то, что деревья решений сильно переобучаются при увеличении глубины и просто запоминают трейн. \n",
    "Замечаете ли вы такой эффект судя по графикам? Что при этом происходит с качеством на валидации? "
   ]
  },
  {
   "cell_type": "markdown",
   "metadata": {
    "id": "Irwthm6x2As6"
   },
   "source": [
    "## Находим самые важные признаки (2 балла)\n",
    "\n"
   ]
  },
  {
   "cell_type": "markdown",
   "metadata": {
    "id": "ztEyIJ8r2As6"
   },
   "source": [
    "По построенному дереву  легко понять, какие признаки лучше всего помогли решить задачу. Часто это бывает нужно  не только  для сокращения размерности в данных, но и для лучшего понимания прикладной задачи. Например, Вы хотите понять, какие признаки стоит еще конструировать -- для этого нужно понимать, какие из текущих лучше всего работают в дереве. "
   ]
  },
  {
   "cell_type": "markdown",
   "metadata": {
    "id": "CWatYfwc2As6"
   },
   "source": [
    "Самый простой метод -- посчитать число сплитов, где использовался данные признак. Это не лучший вариант, так как по признаку который принимает всего 2 значения, но который почти точно разделяет выборку, число сплитов будет очень 1, но при этом признак сам очень хороший. \n",
    "В этом задании предлагается для каждого признака считать суммарный gain (в лекции обозначено как Q) при использовании этого признака в сплите. Тогда даже у очень хороших признаков с маленьким число сплитов это значение должно быть довольно высоким.  "
   ]
  },
  {
   "cell_type": "markdown",
   "metadata": {
    "id": "Q09VZ-S02As7"
   },
   "source": [
    "Реализовать это довольно просто: создаете словарь номер фичи : суммарный гейн и добавляете в нужную фичу каждый раз, когда используете ее при построении дерева. "
   ]
  },
  {
   "cell_type": "markdown",
   "metadata": {
    "id": "8A3iuu-p2As7"
   },
   "source": [
    "Добавьте функционал, который определяет значения feature importance. Обучите дерево на датасете Speed Dating Data.\n",
    "Выведите 10 главных фичей по важности."
   ]
  },
  {
   "cell_type": "code",
   "execution_count": 27,
   "metadata": {
    "id": "cymUNXZZ2As7"
   },
   "outputs": [],
   "source": [
    "features = np.array(df.loc[:, df.columns != 'match'].columns)"
   ]
  },
  {
   "cell_type": "code",
   "execution_count": 28,
   "metadata": {
    "colab": {
     "base_uri": "https://localhost:8080/"
    },
    "id": "cbdEddMhk9D9",
    "outputId": "ed49e88b-3020-4663-b616-7b6464102e15"
   },
   "outputs": [
    {
     "data": {
      "text/plain": [
       "array(['date', 'go_out', 'pid', 'intel1_1', 'shar2_1', 'imprelig',\n",
       "       'sinc3_1', 'attr2_1', 'career_c', 'int_corr', 'intel2_1',\n",
       "       'intel3_1', 'attr1_1', 'gender', 'race', 'field_cd', 'attr3_1',\n",
       "       'goal', 'sinc2_1', 'amb3_1', 'imprace', 'fun2_1', 'samerace',\n",
       "       'fun1_1', 'shar1_1', 'exphappy', 'amb2_1', 'age', 'amb1_1',\n",
       "       'fun3_1', 'sinc1_1'], dtype=object)"
      ]
     },
     "execution_count": 28,
     "metadata": {},
     "output_type": "execute_result"
    }
   ],
   "source": [
    "features[my_clf.feature_importances_.argsort()]"
   ]
  },
  {
   "cell_type": "markdown",
   "metadata": {
    "id": "XJktzxZ52As7"
   },
   "source": [
    "## Фидбек (бесценно)"
   ]
  },
  {
   "cell_type": "markdown",
   "metadata": {
    "id": "z6fnumOZ2As7"
   },
   "source": [
    "* Какие аспекты обучения деревьев решений Вам показались непонятными? Какое место стоит дополнительно объяснить?"
   ]
  },
  {
   "cell_type": "markdown",
   "metadata": {
    "id": "K5UQePgg2As7"
   },
   "source": [
    "### Ваш ответ здесь"
   ]
  },
  {
   "cell_type": "markdown",
   "metadata": {
    "id": "NgoWGzFW2As8"
   },
   "source": [
    "* Здесь Вы можете оставить отзыв о этой домашней работе или о всем курсе."
   ]
  },
  {
   "cell_type": "markdown",
   "metadata": {
    "id": "vaCuI-Ti2As8"
   },
   "source": [
    "### ВАШ ОТЗЫВ ЗДЕСЬ\n",
    "\n"
   ]
  },
  {
   "cell_type": "code",
   "execution_count": null,
   "metadata": {
    "collapsed": true,
    "id": "m-HnVVTd2As8"
   },
   "outputs": [],
   "source": [
    "!jupyter nbconvert --to html your_notebook_name.ipynb"
   ]
  },
  {
   "cell_type": "code",
   "execution_count": null,
   "metadata": {
    "collapsed": true,
    "id": "lIa8NGwi2As9"
   },
   "outputs": [],
   "source": []
  }
 ],
 "metadata": {
  "anaconda-cloud": {},
  "colab": {
   "provenance": []
  },
  "kernelspec": {
   "display_name": "Python 3 (ipykernel)",
   "language": "python",
   "name": "python3"
  },
  "language_info": {
   "codemirror_mode": {
    "name": "ipython",
    "version": 3
   },
   "file_extension": ".py",
   "mimetype": "text/x-python",
   "name": "python",
   "nbconvert_exporter": "python",
   "pygments_lexer": "ipython3",
   "version": "3.9.13"
  }
 },
 "nbformat": 4,
 "nbformat_minor": 1
}
