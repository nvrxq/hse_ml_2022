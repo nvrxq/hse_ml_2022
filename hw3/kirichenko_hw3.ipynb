{
  "cells": [
    {
      "cell_type": "markdown",
      "metadata": {
        "id": "nxwOUXsBA7N6"
      },
      "source": [
        "### Машинное обучение\n",
        "## Домашнее задание №3 - Градиентный бустинг"
      ]
    },
    {
      "cell_type": "markdown",
      "metadata": {
        "id": "Nnb6L4XbA7N8"
      },
      "source": [
        "**Общая информация**\n",
        "\n",
        "**Срок сдачи:** 16 февраля 2023, 08:30   \n",
        "**Штраф за опоздание:** -2 балла за каждые сутки\n",
        "\n",
        "Используйте данный Ipython Notebook при оформлении домашнего задания."
      ]
    },
    {
      "cell_type": "markdown",
      "metadata": {
        "id": "yOfGe85vA7N9"
      },
      "source": [
        "##  Считаем производные для функций потерь (1 балл)"
      ]
    },
    {
      "cell_type": "markdown",
      "metadata": {
        "id": "5MOTkXLJA7N9"
      },
      "source": [
        "Мы будем реализовать градиентный бустинг для 3 функций потерь:\n",
        "\n",
        "1) MSE  $L(a(x_i), y_i) = (y_i - a(x_i)) ^ 2$\n",
        "\n",
        "2) Экспоненциальная  $L(a(x_i), y_i) = exp( -a(x_i) y_i), y_i \\in \\{-1, 1\\}$\n",
        "\n",
        "3) Логистическая  $L(a(x_i), y_i) = \\log (1 + exp( -a(x_i) y_i)), y_i \\in \\{-1, 1\\}$\n",
        "\n",
        "где $a(x_i)$ предсказание бустинга на итом объекте. \n",
        "\n",
        "Для каждой функции потерь напишите таргет, на который будет настраиваться каждое дерево в бустинге. "
      ]
    },
    {
      "cell_type": "markdown",
      "metadata": {
        "id": "j1a_m5WeA7N-"
      },
      "source": [
        "Ваше решение тут"
      ]
    },
    {
      "cell_type": "markdown",
      "metadata": {
        "id": "Mx6deysjA7N-"
      },
      "source": [
        "1)mse : $$2 *(y - a)$$\n",
        "2)exp : $$\\exp(-a(x)y) * y $$\n",
        "3)logloss : $$\\frac{1}{1 + \\exp(-a(x)y)} * (exp(-a(xi)y) * y)$$"
      ]
    },
    {
      "cell_type": "markdown",
      "metadata": {
        "id": "1O6s_gZsA7N_"
      },
      "source": [
        "##  Реализуем градиентный бустинг (3 балла)"
      ]
    },
    {
      "cell_type": "markdown",
      "metadata": {
        "id": "LB5WZ9UaA7N_"
      },
      "source": [
        "Реализуйте класс градиентного бустинга для классификации. Ваша реализация бустинга должна работать по точности не более чем на 5 процентов хуже чем GradientBoostingClassifier из sklearn. \n"
      ]
    },
    {
      "cell_type": "markdown",
      "metadata": {
        "id": "Tc8vCbKJA7OA"
      },
      "source": [
        "Детали реализации:\n",
        "\n",
        "-- должно поддерживаться 3 функции потерь\n",
        "\n",
        "-- сами базовые алгоритмы(деревья, линейные модели и тп) реализовать не надо, просто возьмите готовые из sklearn\n",
        "\n",
        "-- в качестве функции потерь для построения одного дерева используйте MSE\n",
        "\n",
        "-- шаг в бустинге можно не подбирать, можно брать константный\n",
        "\n",
        "-- можно брать разные модели в качестве инициализации бустинга\n",
        "\n",
        "-- должны поддерживаться следующие параметры:\n",
        "\n",
        "а) число итераций\n",
        "б) размер шага\n",
        "в) процент случайных фичей при построении одного дерева\n",
        "д) процент случайных объектов при построении одного дерева\n",
        "е) параметры базового алгоритма (передавайте через **kwargs)"
      ]
    },
    {
      "cell_type": "code",
      "execution_count": 28,
      "metadata": {
        "collapsed": true,
        "id": "ts0v-wnQA7OB"
      },
      "outputs": [],
      "source": [
        "import numpy as np\n",
        "\n",
        "from sklearn.datasets import load_wine\n",
        "from sklearn.ensemble import GradientBoostingClassifier\n",
        "from sklearn.metrics import accuracy_score\n",
        "from sklearn.model_selection import train_test_split\n",
        "from sklearn.tree import DecisionTreeRegressor\n",
        "from random import sample\n",
        "from sklearn.ensemble import RandomForestRegressor\n",
        "from sklearn.svm import SVR\n",
        "from sklearn.linear_model import LinearRegression"
      ]
    },
    {
      "cell_type": "code",
      "execution_count": 47,
      "metadata": {
        "collapsed": true,
        "id": "wtZdl2A0A7OB"
      },
      "outputs": [],
      "source": [
        "class MyGradientBoostingClassifier:\n",
        "\n",
        "    def __init__(self, loss='mse', \n",
        "                 learning_rate=0.1, \n",
        "                 n_estimators=50, \n",
        "                 colsample=1.0, \n",
        "                 subsample=1.0, \n",
        "                 *args, **kwargs):\n",
        "        \"\"\"\n",
        "        loss -- один из 3 лоссов:\n",
        "        learning_rate -- шаг бустинга\n",
        "        n_estimators -- число итераций\n",
        "        colsample -- процент рандомных признаков при обучнеии одного алгоритма\n",
        "        subsample -- процент рандомных объектов при обучнеии одного алгоритма\n",
        "        args, kwargs -- параметры  базовых моделей\n",
        "        \"\"\"\n",
        "        # Ваш код здесь\n",
        "        self.loss = loss\n",
        "        self.learning_rate = learning_rate\n",
        "        self.n_estimators = n_estimators\n",
        "        self.colsample = colsample\n",
        "        self.subsample = subsample\n",
        "        self.args = args\n",
        "        self.kwargs = kwargs\n",
        "        self.losses_dict = {\n",
        "            'mse' : self.mse_grad,\n",
        "            'exploss' : self.exp_grad,\n",
        "            'logloss' : self.logLoss_grad\n",
        "        }\n",
        "    \n",
        "\n",
        "    def mse_grad(self, y_true, y_pred):\n",
        "      return 2 * (y_true - y_pred)\n",
        "\n",
        "    def exp_grad(self, y_true, y_pred):\n",
        "      return np.exp(y_true * -y_pred) * y_true\n",
        "      \n",
        "   \n",
        "    def logLoss_grad(self, y_true, y_pred):\n",
        "      exp_ = np.exp(y_pred * y_true)\n",
        "      return y_true / (1 + exp_)\n",
        "\n",
        "\n",
        "    def fit(self, X, y, base_model = DecisionTreeRegressor, init_model=None):\n",
        "        \"\"\"\n",
        "        X -- объекты для обучения:\n",
        "        y -- таргеты для обучения\n",
        "        base_model -- класс базовых моделей, например sklearn.tree.DecisionTreeRegressor\n",
        "        init_model -- класс для первой модели, если None то берем константу (только для посл задания)\n",
        "        \"\"\"\n",
        "          \n",
        "        loss_func = self.losses_dict[self.loss]\n",
        "        obj_sample_size = int(np.round(self.subsample * X.shape[0]))\n",
        "        cols_sample_size = int(np.round(self.colsample * X.shape[1]))\n",
        "\n",
        "        self.models = []\n",
        "        self.features = []\n",
        "\n",
        "        if init_model is None:\n",
        "          y_pred = 0\n",
        "          self.startModel = None\n",
        "        else:\n",
        "          self.startModel = init_model()\n",
        "          self.startModel.fit(X, y)\n",
        "          y_pred = self.startModel.predict(X)\n",
        "\n",
        "        for _ in range(self.n_estimators):\n",
        "          estimator = base_model(*self.args, **self.kwargs)\n",
        "          grad = loss_func(y, y_pred)\n",
        "          x_train_size = np.array(sample(range(X.shape[0]), obj_sample_size))\n",
        "          cols = np.array(sample(range(X.shape[1]), cols_sample_size))\n",
        "          estimator.fit(X[x_train_size[:, np.newaxis], cols], grad[x_train_size])\n",
        "          y_pred += self.learning_rate * estimator.predict(X[:, cols])\n",
        "          self.models.append(estimator)\n",
        "          self.features.append(cols)\n",
        "        \n",
        "\n",
        "\n",
        "        \n",
        "    def predict(self, X):\n",
        "      if self.startModel is None:\n",
        "        y_pred = 0\n",
        "      else:\n",
        "        y_pred = self.startModel.predict(X)\n",
        "      for model, feature in zip(self.models, self.features):\n",
        "        y_pred += self.learning_rate * model.predict(X[:, feature])\n",
        "\n",
        "      if self.loss == 'mse':       \n",
        "            return np.around(y_pred).astype(int)\n",
        "      else:\n",
        "            return np.where(y_pred>=0, 1, -1)"
      ]
    },
    {
      "cell_type": "code",
      "execution_count": 48,
      "metadata": {
        "id": "pejR1ZDMA7OC"
      },
      "outputs": [],
      "source": [
        "my_clf = MyGradientBoostingClassifier()\n",
        "clf = GradientBoostingClassifier()"
      ]
    },
    {
      "cell_type": "code",
      "execution_count": 49,
      "metadata": {
        "collapsed": true,
        "colab": {
          "base_uri": "https://localhost:8080/"
        },
        "id": "1VsYWNlsA7OD",
        "outputId": "4321d0ce-fc49-4f9b-bf92-ece323b08ab2"
      },
      "outputs": [
        {
          "output_type": "stream",
          "name": "stdout",
          "text": [
            "1.0\n",
            "1.0\n"
          ]
        }
      ],
      "source": [
        "wine = load_wine()\n",
        "X_train, X_test, y_train, y_test = train_test_split(wine.data, wine.target, test_size=0.1, stratify=wine.target)\n",
        "\n",
        "my_clf = MyGradientBoostingClassifier()\n",
        "clf = GradientBoostingClassifier()\n",
        "\n",
        "my_clf.fit(X_train, y_train, base_model = DecisionTreeRegressor)\n",
        "clf.fit(X_train, y_train)\n",
        "print(accuracy_score(y_pred=clf.predict(X_test), y_true=y_test))\n",
        "print(accuracy_score(y_pred=my_clf.predict(X_test), y_true=y_test))\n",
        "\n"
      ]
    },
    {
      "cell_type": "markdown",
      "metadata": {
        "id": "UQgm-1MLA7OD"
      },
      "source": [
        "## Подбираем параметры (2 балла)\n",
        "\n",
        "Давайте попробуем применить Ваш бустинг для предсказаний цены домов в Калифорнии. Чтобы можно было попробовтаь разные функции потерь, переведем по порогу таргет в 2 класса: дорогие и дешевые дома."
      ]
    },
    {
      "cell_type": "markdown",
      "metadata": {
        "id": "Cf8Ch-xEA7OE"
      },
      "source": [
        "В задании нужно\n",
        "\n",
        "1) Построить график точности в зависимости от числа итераций на валидации.\n",
        "\n",
        "2) Подобрать оптимальные параметры Вашего бустинга на валидации. \n"
      ]
    },
    {
      "cell_type": "code",
      "execution_count": 79,
      "metadata": {
        "id": "1VBcuVDsA7OE"
      },
      "outputs": [],
      "source": [
        "from sklearn.datasets import fetch_california_housing\n",
        "X, y = fetch_california_housing(return_X_y=True)"
      ]
    },
    {
      "cell_type": "code",
      "execution_count": 80,
      "metadata": {
        "colab": {
          "base_uri": "https://localhost:8080/"
        },
        "id": "5Ro4PdRhA7OE",
        "outputId": "f975bbcc-fc83-46ad-ef42-a4461c43628f"
      },
      "outputs": [
        {
          "output_type": "stream",
          "name": "stdout",
          "text": [
            "(20640, 8) (20640,)\n"
          ]
        }
      ],
      "source": [
        "# Превращаем регрессию в классификацию\n",
        "y = (y > 2.0).astype(int)\n",
        "print(X.shape, y.shape)"
      ]
    },
    {
      "cell_type": "code",
      "execution_count": 81,
      "metadata": {
        "collapsed": true,
        "id": "BV3P0ND7A7OF"
      },
      "outputs": [],
      "source": [
        "X_train, X_test, y_train, y_test = train_test_split(X, y, test_size=0.2, stratify=y)"
      ]
    },
    {
      "cell_type": "code",
      "execution_count": 82,
      "metadata": {
        "collapsed": true,
        "id": "QWV2IDDaA7OF"
      },
      "outputs": [],
      "source": [
        "\n",
        "\n",
        "my_clf = MyGradientBoostingClassifier(n_estimators=2000)\n",
        "my_clf.fit(X_train, y_train)\n",
        "\n"
      ]
    },
    {
      "cell_type": "code",
      "source": [
        "accuracy = []\n",
        "count = 1\n",
        "y_pred = 0\n",
        "for model, cols in zip(my_clf.models, my_clf.features):\n",
        "        y_pred += my_clf.learning_rate * model.predict(X_test[:, cols])\n",
        "        accuracy.append(accuracy_score(y_pred = np.round(y_pred).astype(int),\n",
        "                                                        y_true=y_test))"
      ],
      "metadata": {
        "id": "YIqJbgapRIpc"
      },
      "execution_count": 83,
      "outputs": []
    },
    {
      "cell_type": "code",
      "source": [
        "import matplotlib.pyplot as plt\n"
      ],
      "metadata": {
        "id": "cvX9g9I0SpdZ"
      },
      "execution_count": 84,
      "outputs": []
    },
    {
      "cell_type": "code",
      "source": [
        "plt.plot(range(1, 2001), accuracy, linewidth = 3)"
      ],
      "metadata": {
        "colab": {
          "base_uri": "https://localhost:8080/",
          "height": 286
        },
        "id": "iWSJ54fDSwEI",
        "outputId": "981edc6a-e9df-4dc6-e85c-97d64cd58b6d"
      },
      "execution_count": 85,
      "outputs": [
        {
          "output_type": "execute_result",
          "data": {
            "text/plain": [
              "[<matplotlib.lines.Line2D at 0x7f5a7980dcd0>]"
            ]
          },
          "metadata": {},
          "execution_count": 85
        },
        {
          "output_type": "display_data",
          "data": {
            "text/plain": [
              "<Figure size 432x288 with 1 Axes>"
            ],
            "image/png": "[encoded data removed]"
          },
          "metadata": {
            "needs_background": "light"
          }
        }
      ]
    },
    {
      "cell_type": "code",
      "source": [
        "max(accuracy)"
      ],
      "metadata": {
        "colab": {
          "base_uri": "https://localhost:8080/"
        },
        "id": "SNkYn7cbURZe",
        "outputId": "bf2b9f8b-74c7-4710-b5e5-5473cbeb2c03"
      },
      "execution_count": 86,
      "outputs": [
        {
          "output_type": "execute_result",
          "data": {
            "text/plain": [
              "0.8372093023255814"
            ]
          },
          "metadata": {},
          "execution_count": 86
        }
      ]
    },
    {
      "cell_type": "code",
      "source": [
        "plt.xlabel(\"Кол-во моделей\")\n",
        "plt.plot(range(1, 11), accuracy[:10], linewidth=3)\n",
        "plt.show()\n",
        "\n"
      ],
      "metadata": {
        "colab": {
          "base_uri": "https://localhost:8080/",
          "height": 283
        },
        "id": "3wJrTLxEUXSp",
        "outputId": "49c06eb1-d71a-4778-f9b9-cdda3cf663a1"
      },
      "execution_count": 93,
      "outputs": [
        {
          "output_type": "display_data",
          "data": {
            "text/plain": [
              "<Figure size 432x288 with 1 Axes>"
            ],
            "image/png": "[encoded data removed]"
          },
          "metadata": {
            "needs_background": "light"
          }
        }
      ]
    },
    {
      "cell_type": "markdown",
      "source": [
        "### Достаточно 4 моделей для максимальной точности."
      ],
      "metadata": {
        "id": "k3UFNvPuVGdk"
      }
    },
    {
      "cell_type": "code",
      "source": [
        "# У нас y - [0, 1], сделаем [-1, 1]"
      ],
      "metadata": {
        "id": "RL-f5NrnddUy"
      },
      "execution_count": 94,
      "outputs": []
    },
    {
      "cell_type": "code",
      "source": [
        "class GridSearch:\n",
        "\n",
        "  def __init__(self, losses, cols_sample, sub_samples):\n",
        "    self.n_estimators =  15\n",
        "    self.losses = losses\n",
        "    self.cols_sample = cols_sample\n",
        "    self.sub_samples = sub_samples\n",
        "    self.max_accuracy = -1\n",
        "  def findParams(self, X_train, y_train, X_test, y_test):\n",
        "    logger = {'loss' : 'mse',\n",
        "              'colsample' : 0,\n",
        "              'subsample' :0,\n",
        "              'n_estimators' : self.n_estimators}\n",
        "\n",
        "    for loss in self.losses:\n",
        "      for cols_s in self.cols_sample:\n",
        "        for sub_s in self.sub_samples:\n",
        "          my_clf = MyGradientBoostingClassifier(n_estimators=self.n_estimators, \n",
        "                                                loss = loss, colsample = cols_s,\n",
        "                                                subsample = sub_s)\n",
        "          if loss == 'mse':\n",
        "            my_clf.fit(X_train, y_train)\n",
        "            accuracy_pred = accuracy_score(my_clf.predict(X_test), y_test)\n",
        "          else:\n",
        "            my_clf.fit(X_train, 2 * y_train -1 ) #[0, 1] -> [-1, 1]\n",
        "            accuracy_pred = accuracy_score(my_clf.predict(X_test), 2 * y_test -1)\n",
        "\n",
        "          if accuracy_pred > self.max_accuracy:\n",
        "            logger['loss'] = loss\n",
        "            logger['colsample'] = cols_s\n",
        "            logger['subsample'] = sub_s\n",
        "            self.max_accuracy =  accuracy_pred\n",
        "    return logger, self.max_accuracy\n"
      ],
      "metadata": {
        "id": "60PcqhiHVaW7"
      },
      "execution_count": 95,
      "outputs": []
    },
    {
      "cell_type": "code",
      "source": [
        "GsV = GridSearch(losses = ['exploss', 'mse', 'logloss'],\n",
        "                 cols_sample = np.linspace(0.2, 1, 5),\n",
        "                 sub_samples = np.linspace(0.2, 1, 5))"
      ],
      "metadata": {
        "id": "fTO0YdDYWw2u"
      },
      "execution_count": 96,
      "outputs": []
    },
    {
      "cell_type": "code",
      "source": [
        "best_params, accuracy  = GsV.findParams(X_train, y_train, X_test ,y_test)"
      ],
      "metadata": {
        "id": "wbqbTQ3eXGP4"
      },
      "execution_count": 97,
      "outputs": []
    },
    {
      "cell_type": "code",
      "source": [
        "best_params"
      ],
      "metadata": {
        "colab": {
          "base_uri": "https://localhost:8080/"
        },
        "id": "Xz4eNnAZdRX4",
        "outputId": "4c80116a-720f-4c12-9b14-5b1c3cb630dd"
      },
      "execution_count": 98,
      "outputs": [
        {
          "output_type": "execute_result",
          "data": {
            "text/plain": [
              "{'loss': 'logloss', 'colsample': 0.8, 'subsample': 0.8, 'n_estimators': 15}"
            ]
          },
          "metadata": {},
          "execution_count": 98
        }
      ]
    },
    {
      "cell_type": "code",
      "source": [
        "accuracy"
      ],
      "metadata": {
        "colab": {
          "base_uri": "https://localhost:8080/"
        },
        "id": "SSHAYUd3f9DU",
        "outputId": "fb63ef74-2b83-4b68-8695-627467ac0e3c"
      },
      "execution_count": 99,
      "outputs": [
        {
          "output_type": "execute_result",
          "data": {
            "text/plain": [
              "0.8955910852713178"
            ]
          },
          "metadata": {},
          "execution_count": 99
        }
      ]
    },
    {
      "cell_type": "markdown",
      "metadata": {
        "id": "NMS78HdHA7OF"
      },
      "source": [
        "## BooBag BagBoo (1 балл)\n",
        "\n"
      ]
    },
    {
      "cell_type": "markdown",
      "metadata": {
        "id": "jjn0kcLWA7OF"
      },
      "source": [
        "Попробуем объединить бустинг и бэгинг. Давайте\n",
        "\n",
        "1) в качестве базовой модели брать не дерево решений, а случайный лес (из sklearn)\n",
        "\n",
        "2) обучать N бустингов на бустрапированной выборке, а затем предикт усреднять"
      ]
    },
    {
      "cell_type": "markdown",
      "metadata": {
        "id": "tfyscGPpA7OG"
      },
      "source": [
        "Попробуйте обе этих стратегии на данных из прошлого задания. Получилось ли улучшить качество? Почему?"
      ]
    },
    {
      "cell_type": "code",
      "execution_count": 100,
      "metadata": {
        "collapsed": true,
        "id": "SsxZB8gKA7OG"
      },
      "outputs": [],
      "source": [
        "my_clf = MyGradientBoostingClassifier(**best_params)\n",
        "my_clf.fit(X_train, 2 * y_train - 1, base_model = RandomForestRegressor)"
      ]
    },
    {
      "cell_type": "code",
      "execution_count": 101,
      "metadata": {
        "collapsed": true,
        "colab": {
          "base_uri": "https://localhost:8080/"
        },
        "id": "8CXpGYPpA7OG",
        "outputId": "702c4412-87d7-4ce3-db87-254c40c8d97f"
      },
      "outputs": [
        {
          "output_type": "execute_result",
          "data": {
            "text/plain": [
              "0.8987403100775194"
            ]
          },
          "metadata": {},
          "execution_count": 101
        }
      ],
      "source": [
        "accuracy_score(my_clf.predict(X_test), 2 * y_test -1)"
      ]
    },
    {
      "cell_type": "code",
      "source": [
        "N = 10\n",
        "\n",
        "bagging = []\n",
        "\n",
        "for i in range(N):\n",
        "    objects = np.random.randint(0, X_train.shape[0], X_train.shape[0])\n",
        "    my_clf = MyGradientBoostingClassifier(**best_params)\n",
        "    my_clf.fit(X_train[objects, :], (y_train * 2 - 1)[objects])\n",
        "    bagging.append(my_clf)\n",
        "\n"
      ],
      "metadata": {
        "id": "xpeX-hkgj0Ie"
      },
      "execution_count": 102,
      "outputs": []
    },
    {
      "cell_type": "code",
      "source": [
        "predicted = 0\n",
        "for model in bagging:\n",
        "  predicted += model.predict(X_test)"
      ],
      "metadata": {
        "id": "WYyMMshi6Ino"
      },
      "execution_count": 103,
      "outputs": []
    },
    {
      "cell_type": "code",
      "source": [
        "predicted = np.where(predicted >= 0, 1 ,-1)"
      ],
      "metadata": {
        "id": "8bUGL_l36STh"
      },
      "execution_count": 104,
      "outputs": []
    },
    {
      "cell_type": "code",
      "source": [
        "accuracy_score(predicted, 2 * y_test -1)"
      ],
      "metadata": {
        "colab": {
          "base_uri": "https://localhost:8080/"
        },
        "id": "8ipaTtKU6Ws8",
        "outputId": "29f6a7ab-f39a-4b60-d926-604aa8c3dcc0"
      },
      "execution_count": 105,
      "outputs": [
        {
          "output_type": "execute_result",
          "data": {
            "text/plain": [
              "0.8895348837209303"
            ]
          },
          "metadata": {},
          "execution_count": 105
        }
      ]
    },
    {
      "cell_type": "markdown",
      "source": [
        "Данные методы не улучшили метрики. Для 1-го случая можно поиграться с гиперпараметрами RandomForest."
      ],
      "metadata": {
        "id": "tGRwt_d16ZXt"
      }
    },
    {
      "cell_type": "markdown",
      "metadata": {
        "collapsed": true,
        "id": "eNH3tSoIA7OG"
      },
      "source": [
        "## Умная инициализация (1 балл)\n",
        "\n",
        "Попробуйте брать в качестве инициализации бустинга не константу, а какой-то алгоритм и уже от его предикта стартовать итерации бустинга. Попробуйте разные модели из sklearn: линейные модели, рандом форест, svm..\n",
        "\n",
        "Получилось ли улучшить качество? Почему?\n",
        "\n"
      ]
    },
    {
      "cell_type": "code",
      "execution_count": 106,
      "metadata": {
        "collapsed": true,
        "id": "zo2N0dEoA7OG"
      },
      "outputs": [],
      "source": [
        "base_models = [SVR, DecisionTreeRegressor, LinearRegression]"
      ]
    },
    {
      "cell_type": "code",
      "execution_count": 107,
      "metadata": {
        "collapsed": true,
        "colab": {
          "base_uri": "https://localhost:8080/"
        },
        "id": "OoVFde5WA7OG",
        "outputId": "5f743bcf-0c36-40f6-f5b1-948afb861739"
      },
      "outputs": [
        {
          "output_type": "stream",
          "name": "stdout",
          "text": [
            "SVR : 0.7223837209302325\n",
            "DecisionTreeRegressor : 0.8321220930232558\n",
            "LinearRegression : 0.8888081395348837\n"
          ]
        }
      ],
      "source": [
        "for model in base_models:\n",
        "  my_clf = MyGradientBoostingClassifier(**best_params)\n",
        "  my_clf.fit(X_train, y_train * 2 - 1, init_model=model)\n",
        "  print(f\"{model.__name__} : {accuracy_score(my_clf.predict(X_test), y_test * 2 - 1)}\")\n"
      ]
    },
    {
      "cell_type": "markdown",
      "source": [
        "##### SVR и DecisionTreeRegressor ухудшили результаты, однако если опять же менять и их гиперпараметры, то возможно это может улучшить метрики."
      ],
      "metadata": {
        "id": "bIkx3P8F9aZX"
      }
    },
    {
      "cell_type": "code",
      "source": [
        "\n",
        "\n",
        "%%shell\n",
        "jupyter nbconvert --to html /content/kirichenko_hw3.ipynb\n",
        "\n"
      ],
      "metadata": {
        "id": "dC5nmmXfCdFF"
      },
      "execution_count": null,
      "outputs": []
    },
    {
      "cell_type": "markdown",
      "metadata": {
        "id": "78l8EGosA7OG"
      },
      "source": [
        "## Фидбек (бесценно)"
      ]
    },
    {
      "cell_type": "markdown",
      "metadata": {
        "id": "PrEKo9NpA7OH"
      },
      "source": [
        "* Какие аспекты обучения  ансамблей Вам показались непонятными? Какое место стоит дополнительно объяснить?"
      ]
    },
    {
      "cell_type": "markdown",
      "metadata": {
        "id": "kxhb52vCA7OH"
      },
      "source": [
        "### Ваш ответ здесь"
      ]
    },
    {
      "cell_type": "markdown",
      "metadata": {
        "id": "QYesswMhA7OH"
      },
      "source": [
        "* Здесь Вы можете оставить отзыв о этой домашней работе или о всем курсе."
      ]
    },
    {
      "cell_type": "markdown",
      "metadata": {
        "id": "M3vRd_kXA7OH"
      },
      "source": [
        "### ВАШ ОТЗЫВ ЗДЕСЬ\n",
        "\n"
      ]
    },
    {
      "cell_type": "code",
      "execution_count": null,
      "metadata": {
        "collapsed": true,
        "id": "c8yY_2uyA7OH"
      },
      "outputs": [],
      "source": []
    },
    {
      "cell_type": "code",
      "execution_count": null,
      "metadata": {
        "collapsed": true,
        "id": "aWy8IvtVA7OI"
      },
      "outputs": [],
      "source": []
    }
  ],
  "metadata": {
    "anaconda-cloud": {},
    "kernelspec": {
      "display_name": "Python 3 (ipykernel)",
      "language": "python",
      "name": "python3"
    },
    "language_info": {
      "codemirror_mode": {
        "name": "ipython",
        "version": 3
      },
      "file_extension": ".py",
      "mimetype": "text/x-python",
      "name": "python",
      "nbconvert_exporter": "python",
      "pygments_lexer": "ipython3",
      "version": "3.9.13"
    },
    "colab": {
      "provenance": []
    }
  },
  "nbformat": 4,
  "nbformat_minor": 0
}